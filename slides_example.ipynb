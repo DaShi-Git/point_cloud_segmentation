{
 "cells": [
  {
   "cell_type": "markdown",
   "metadata": {
    "id": "yi7SgFFSDutF"
   },
   "source": [
    "Week 3 (26 April, 2021)\n",
    "Practical Course: Learning For Self-Driving Cars and Intelligent Systems\n",
    "Winter Semester 2020-2021\n",
    "Technical University of Munich\n",
    "https://vision.in.tum.de/teaching/ss2021/intellisys_ss2021\n",
    "Example from the Slides "
   ]
  },
  {
   "cell_type": "code",
   "execution_count": 7,
   "metadata": {
    "id": "-2RQn4CZeWqW"
   },
   "outputs": [],
   "source": [
    "import torch\n",
    "import numpy as np"
   ]
  },
  {
   "cell_type": "code",
   "execution_count": 8,
   "metadata": {
    "id": "bYMiFTUWeaTk"
   },
   "outputs": [
    {
     "data": {
      "text/html": [
       "<img src=\"graph.png\"/>"
      ],
      "text/plain": [
       "<IPython.core.display.Image object>"
      ]
     },
     "execution_count": 8,
     "metadata": {},
     "output_type": "execute_result"
    }
   ],
   "source": [
    "from IPython.display import Image\n",
    "from IPython.core.display import HTML \n",
    "Image(url= \"graph.png\")"
   ]
  },
  {
   "cell_type": "markdown",
   "metadata": {
    "id": "7d62IPwDGGp0"
   },
   "source": [
    "References:\n",
    " \n",
    "\n",
    "1.   https://pytorch-geometric.readthedocs.io/en/latest/notes/create_gnn.html\n",
    "2.   https://towardsdatascience.com/how-to-do-deep-learning-on-graphs-with-graph-convolutional-networks-7d2250723780 \n",
    "\n",
    "\n",
    "         \n",
    " "
   ]
  },
  {
   "cell_type": "code",
   "execution_count": 5,
   "metadata": {
    "colab": {
     "base_uri": "https://localhost:8080/"
    },
    "id": "usa06g26eJqI",
    "outputId": "8bf5b459-69b2-491b-8ff4-9bf11b8841ae"
   },
   "outputs": [
    {
     "name": "stdout",
     "output_type": "stream",
     "text": [
      "[[ 1.  1.]\n",
      " [ 2.  4.]\n",
      " [ 3.  9.]\n",
      " [ 4. 16.]]\n",
      "[[0. 1. 1. 0.]\n",
      " [1. 0. 0. 1.]\n",
      " [0. 0. 0. 1.]\n",
      " [1. 0. 0. 0.]]\n",
      "[[ 5. 13.]\n",
      " [ 5. 17.]\n",
      " [ 4. 16.]\n",
      " [ 1.  1.]]\n"
     ]
    }
   ],
   "source": [
    "A = np.array([\n",
    "    [0, 1, 1, 0],\n",
    "    [1, 0, 0, 1], \n",
    "    [0, 0, 0, 1],\n",
    "    [1, 0, 0, 0]],\n",
    "    dtype=float\n",
    ")\n",
    "X = np.array([\n",
    "            [i+1, (i+1)**2]\n",
    "            for i in range(A.shape[0])\n",
    "        ], dtype=float)\n",
    "print(X)\n",
    "print(A)\n",
    "print(A @ X)"
   ]
  },
  {
   "cell_type": "code",
   "execution_count": 6,
   "metadata": {
    "colab": {
     "base_uri": "https://localhost:8080/"
    },
    "id": "IUIYfhoQesMw",
    "outputId": "89db54c4-e23b-499b-a4dd-86b08f3dd522"
   },
   "outputs": [
    {
     "ename": "ModuleNotFoundError",
     "evalue": "No module named 'torch_geometric'",
     "output_type": "error",
     "traceback": [
      "\u001b[0;31m---------------------------------------------------------------------------\u001b[0m",
      "\u001b[0;31mModuleNotFoundError\u001b[0m                       Traceback (most recent call last)",
      "\u001b[0;32m<ipython-input-6-009879937da7>\u001b[0m in \u001b[0;36m<module>\u001b[0;34m\u001b[0m\n\u001b[1;32m      1\u001b[0m \u001b[0;32mimport\u001b[0m \u001b[0mtorch\u001b[0m\u001b[0;34m\u001b[0m\u001b[0;34m\u001b[0m\u001b[0m\n\u001b[0;32m----> 2\u001b[0;31m \u001b[0;32mfrom\u001b[0m \u001b[0mtorch_geometric\u001b[0m\u001b[0;34m.\u001b[0m\u001b[0mnn\u001b[0m \u001b[0;32mimport\u001b[0m \u001b[0mMessagePassing\u001b[0m\u001b[0;34m\u001b[0m\u001b[0;34m\u001b[0m\u001b[0m\n\u001b[0m\u001b[1;32m      3\u001b[0m \u001b[0;32mfrom\u001b[0m \u001b[0mtorch_geometric\u001b[0m\u001b[0;34m.\u001b[0m\u001b[0mutils\u001b[0m \u001b[0;32mimport\u001b[0m \u001b[0madd_self_loops\u001b[0m\u001b[0;34m,\u001b[0m \u001b[0mdegree\u001b[0m\u001b[0;34m\u001b[0m\u001b[0;34m\u001b[0m\u001b[0m\n\u001b[1;32m      4\u001b[0m \u001b[0;34m\u001b[0m\u001b[0m\n\u001b[1;32m      5\u001b[0m \u001b[0;32mclass\u001b[0m \u001b[0mGraphConvLayer\u001b[0m\u001b[0;34m(\u001b[0m\u001b[0mMessagePassing\u001b[0m\u001b[0;34m)\u001b[0m\u001b[0;34m:\u001b[0m\u001b[0;34m\u001b[0m\u001b[0;34m\u001b[0m\u001b[0m\n",
      "\u001b[0;31mModuleNotFoundError\u001b[0m: No module named 'torch_geometric'"
     ]
    }
   ],
   "source": [
    "import torch\n",
    "from torch_geometric.nn import MessagePassing\n",
    "from torch_geometric.utils import add_self_loops, degree\n",
    "\n",
    "class GraphConvLayer(MessagePassing):\n",
    "    def __init__(self):\n",
    "        super(GraphConvLayer, self).__init__(aggr='add')  # \"Add\" aggregation \n",
    "        \n",
    "    def forward(self, x, edge_index):\n",
    "        # x has shape [N, in_channels]\n",
    "        # edge_index has shape [2, E]\n",
    "\n",
    "        print(x)\n",
    "        return self.propagate(edge_index, x=x)\n",
    "\n",
    "    def message(self, x_j):\n",
    "        # x_j has shape [E, out_channels]\n",
    "\n",
    "        return  x_j\n",
    "\n",
    "gcn_layer = GraphConvLayer()\n",
    "edge_index = torch.tensor([[0, 0, 1, 2,3,3],\n",
    "                           [1, 3, 0, 0,2,1]], dtype=torch.long)\n",
    "x = torch.tensor(X.astype(np.float32))\n",
    "x.shape\n",
    "gcn_layer(x, edge_index)"
   ]
  },
  {
   "cell_type": "code",
   "execution_count": null,
   "metadata": {
    "colab": {
     "base_uri": "https://localhost:8080/"
    },
    "id": "_AKkLNBhfOCb",
    "outputId": "ab5b8505-3456-4fbb-8c26-4301adca6872"
   },
   "outputs": [],
   "source": [
    "W = np.array([[0.4, -2,0.6,1.2],\n",
    "             [0.3, -2,0.7,-1.3]])\n",
    "transformed_features = X @ W\n",
    "print(transformed_features)\n",
    "new_features  = A @ transformed_features\n",
    "print(new_features)"
   ]
  },
  {
   "cell_type": "code",
   "execution_count": null,
   "metadata": {
    "colab": {
     "base_uri": "https://localhost:8080/"
    },
    "id": "EmtUbUexfQJs",
    "outputId": "da90518e-d774-42d5-8c81-3869b5e78392"
   },
   "outputs": [],
   "source": [
    "class GraphConvLayer(MessagePassing):\n",
    "    def __init__(self, in_channels, out_channels):\n",
    "        super(GraphConvLayer, self).__init__(aggr='add')  # \"Add\" aggregation (Step 5).\n",
    "        self.lin = torch.nn.Linear(in_channels, out_channels, bias = False)\n",
    "\n",
    "    def forward(self, x, edge_index):\n",
    "        # x has shape [N, in_channels]\n",
    "        # edge_index has shape [2, E]\n",
    "\n",
    "        x = self.lin(x)\n",
    "        print(x)\n",
    "        return self.propagate(edge_index, x=x)\n",
    "\n",
    "    def message(self, x_j):\n",
    "        # x_j has shape [E, out_channels]\n",
    "        #print(x_j)\n",
    "\n",
    "        return  x_j\n",
    "\n",
    "gcn_layer = GraphConvLayer(2,4)\n",
    "\n",
    "gcn_layer.lin.weight.data =  torch.Tensor(W.T)\n",
    "gcn_layer.lin.weight.data\n",
    "edge_index = torch.tensor([[0, 0, 1, 2,3,3],\n",
    "                           [1, 3, 0, 0,2,1]], dtype=torch.long)\n",
    "x = torch.tensor(X.astype(np.float32))\n",
    "x.shape\n",
    "gcn_layer(x, edge_index)"
   ]
  },
  {
   "cell_type": "code",
   "execution_count": 7,
   "metadata": {
    "colab": {
     "base_uri": "https://localhost:8080/"
    },
    "id": "pOBT2XjWfSo5",
    "outputId": "2468b344-62b1-443d-83e3-7c01b20d824c"
   },
   "outputs": [
    {
     "name": "stdout",
     "output_type": "stream",
     "text": [
      "old A\n",
      "[[0. 1. 1. 0.]\n",
      " [1. 0. 0. 1.]\n",
      " [0. 0. 0. 1.]\n",
      " [1. 0. 0. 0.]]\n",
      "Adjacency with self loops\n",
      "[[1. 1. 1. 0.]\n",
      " [1. 1. 0. 1.]\n",
      " [0. 0. 1. 1.]\n",
      " [1. 0. 0. 1.]]\n",
      "[[  6.6 -40.   13.4 -11. ]\n",
      " [  9.1 -56.   18.9 -18.9]\n",
      " [ 10.3 -64.   21.7 -24.1]\n",
      " [  7.1 -44.   14.9 -16.1]]\n"
     ]
    }
   ],
   "source": [
    "A = np.array([\n",
    "    [0, 1, 1, 0],\n",
    "    [1, 0, 0, 1], \n",
    "    [0, 0, 0, 1],\n",
    "    [1, 0, 0, 0]],\n",
    "    dtype=float\n",
    ")\n",
    "I = np.matrix(np.eye(A.shape[0]))\n",
    "print(\"old A\")\n",
    "print(A)\n",
    "A = A + I\n",
    "print(\"Adjacency with self loops\")\n",
    "print(A)\n",
    "print(A * X  * W)"
   ]
  },
  {
   "cell_type": "code",
   "execution_count": 8,
   "metadata": {
    "colab": {
     "base_uri": "https://localhost:8080/"
    },
    "id": "EOvzh3ytfU1u",
    "outputId": "d6171756-f8b1-4ccf-8192-f6b3f50dba00"
   },
   "outputs": [
    {
     "name": "stdout",
     "output_type": "stream",
     "text": [
      "tensor([[0, 0, 1, 2, 3, 3, 0, 1, 2, 3],\n",
      "        [1, 3, 0, 0, 2, 1, 0, 1, 2, 3]])\n"
     ]
    },
    {
     "data": {
      "text/plain": [
       "tensor([[  6.6000, -40.0000,  13.4000, -11.0000],\n",
       "        [  9.1000, -56.0000,  18.9000, -18.9000],\n",
       "        [ 10.3000, -64.0000,  21.7000, -24.1000],\n",
       "        [  7.1000, -44.0000,  14.9000, -16.1000]],\n",
       "       grad_fn=<ScatterAddBackward>)"
      ]
     },
     "execution_count": 8,
     "metadata": {},
     "output_type": "execute_result"
    }
   ],
   "source": [
    "class GraphConvLayer(MessagePassing):\n",
    "    def __init__(self, in_channels, out_channels):\n",
    "        super(GraphConvLayer, self).__init__(aggr='add')  # \"Add\" aggregation (Step 5).\n",
    "        self.lin = torch.nn.Linear(in_channels, out_channels, bias = False)\n",
    "\n",
    "    def forward(self, x, edge_index):\n",
    "        # x has shape [N, in_channels]\n",
    "        # edge_index has shape [2, E]\n",
    "        \n",
    "        # Add self-loops to the adjacency matrix.\n",
    "        edge_index, _ = add_self_loops(edge_index, num_nodes=x.size(0))\n",
    "        print(edge_index)\n",
    "\n",
    "        x = self.lin(x)\n",
    "        #print(x)\n",
    "        return self.propagate(edge_index, x=x)\n",
    "\n",
    "    def message(self, x_j):\n",
    "        # x_j has shape [E, out_channels]\n",
    "\n",
    "        return  x_j\n",
    "\n",
    "gcn_layer = GraphConvLayer(2,4)\n",
    "W = np.array([[0.4, -2,0.6,1.2],\n",
    "             [0.3, -2,0.7,-1.3]])\n",
    "gcn_layer.lin.weight.data =  torch.Tensor(W.T)\n",
    "gcn_layer.lin.weight.data\n",
    "edge_index = torch.tensor([[0, 0, 1, 2,3,3],\n",
    "                           [1, 3, 0, 0,2,1]], dtype=torch.long)\n",
    "x = torch.tensor(X.astype(np.float32))\n",
    "x.shape\n",
    "gcn_layer(x, edge_index)"
   ]
  },
  {
   "cell_type": "code",
   "execution_count": 9,
   "metadata": {
    "colab": {
     "base_uri": "https://localhost:8080/"
    },
    "id": "GUMvkjfYfXQ-",
    "outputId": "f7d23d5a-84fd-4e85-a37f-dcb42e0af946"
   },
   "outputs": [
    {
     "name": "stdout",
     "output_type": "stream",
     "text": [
      "[[3. 0. 0. 0.]\n",
      " [0. 2. 0. 0.]\n",
      " [0. 0. 2. 0.]\n",
      " [0. 0. 0. 3.]]\n",
      "[[0.33333333 0.33333333 0.33333333 0.        ]\n",
      " [0.5        0.5        0.         0.5       ]\n",
      " [0.         0.         0.5        0.5       ]\n",
      " [0.33333333 0.         0.         0.33333333]]\n",
      "[[  2.2        -13.33333333   4.46666667  -3.66666667]\n",
      " [  4.55       -28.           9.45        -9.45      ]\n",
      " [  5.15       -32.          10.85       -12.05      ]\n",
      " [  2.36666667 -14.66666667   4.96666667  -5.36666667]]\n"
     ]
    }
   ],
   "source": [
    "D = np.array(np.sum(A, axis=0))[0]\n",
    "D = np.diag(D)\n",
    "print(D)\n",
    "print(np.linalg.inv(D) * A)\n",
    "print(np.linalg.inv(D) * A * X * W)"
   ]
  },
  {
   "cell_type": "code",
   "execution_count": 10,
   "metadata": {
    "colab": {
     "base_uri": "https://localhost:8080/"
    },
    "id": "rAnMXUJFfY-z",
    "outputId": "71aea039-be13-4476-dbc2-768bac030d99"
   },
   "outputs": [
    {
     "name": "stdout",
     "output_type": "stream",
     "text": [
      "tensor([[ 0.4000,  0.3000],\n",
      "        [-2.0000, -2.0000],\n",
      "        [ 0.6000,  0.7000],\n",
      "        [ 1.2000, -1.3000]])\n",
      "tensor([[0, 0, 1, 2, 3, 3, 0, 1, 2, 3],\n",
      "        [1, 3, 0, 0, 2, 1, 0, 1, 2, 3]])\n",
      "tensor([[  0.7000,  -4.0000,   1.3000,  -0.1000],\n",
      "        [  2.0000, -12.0000,   4.0000,  -2.8000],\n",
      "        [  3.9000, -24.0000,   8.1000,  -8.1000],\n",
      "        [  6.4000, -40.0000,  13.6000, -16.0000]], grad_fn=<MmBackward>)\n",
      "tensor([3., 2., 2., 3.])\n",
      "tensor([0.5000, 0.3333, 0.3333, 0.3333, 0.5000, 0.5000, 0.3333, 0.5000, 0.5000,\n",
      "        0.3333])\n"
     ]
    },
    {
     "data": {
      "text/plain": [
       "tensor([[  2.2000, -13.3333,   4.4667,  -3.6667],\n",
       "        [  4.5500, -28.0000,   9.4500,  -9.4500],\n",
       "        [  5.1500, -32.0000,  10.8500, -12.0500],\n",
       "        [  2.3667, -14.6667,   4.9667,  -5.3667]],\n",
       "       grad_fn=<ScatterAddBackward>)"
      ]
     },
     "execution_count": 10,
     "metadata": {},
     "output_type": "execute_result"
    }
   ],
   "source": [
    "class GraphConvLayer(MessagePassing):\n",
    "    def __init__(self, in_channels, out_channels):\n",
    "        super(GraphConvLayer, self).__init__(aggr='add')  # \"Add\" aggregation (Step 5).\n",
    "        self.lin = torch.nn.Linear(in_channels, out_channels, bias = False)\n",
    "\n",
    "    def forward(self, x, edge_index):\n",
    "        # x has shape [N, in_channels]\n",
    "        # edge_index has shape [2, E]\n",
    "\n",
    "        # Step 1: Add self-loops to the adjacency matrix.\n",
    "        edge_index, _ = add_self_loops(edge_index, num_nodes=x.size(0))\n",
    "        print(edge_index)\n",
    "\n",
    "        # Step 2: Linearly transform node feature matrix.\n",
    "        x = self.lin(x)\n",
    "        print(x)\n",
    "\n",
    "        # Step 3: Compute normalization.\n",
    "        row, col = edge_index\n",
    "        deg = degree(row, x.size(0), dtype=x.dtype)\n",
    "        print(deg)\n",
    "        deg_inv = deg.pow(-1)\n",
    "        norm = deg_inv[col]\n",
    "        print(norm)\n",
    "        #print(norm.view(-1,1))\n",
    "\n",
    "        # Step 4-5: Start propagating messages.\n",
    "        return self.propagate(edge_index, x=x, norm=norm)\n",
    "\n",
    "    def message(self, x_j, norm):\n",
    "        # x_j has shape [E, out_channels]\n",
    "\n",
    "        # Step 4: Normalize node features.\n",
    "        #print(x_j)\n",
    "        return  norm.view(-1,1)  * x_j\n",
    "\n",
    "gcn_layer = GraphConvLayer(2,4)\n",
    "gcn_layer.lin.weight.data =  torch.Tensor(W.T)\n",
    "print(gcn_layer.lin.weight.data)\n",
    "edge_index = torch.tensor([[0, 0, 1, 2,3,3],\n",
    "                           [1, 3, 0, 0,2,1]], dtype=torch.long)\n",
    "x = torch.tensor(X.astype(np.float32))\n",
    "x.shape\n",
    "gcn_layer(x, edge_index)"
   ]
  },
  {
   "cell_type": "code",
   "execution_count": null,
   "metadata": {},
   "outputs": [],
   "source": []
  },
  {
   "cell_type": "code",
   "execution_count": null,
   "metadata": {},
   "outputs": [],
   "source": []
  }
 ],
 "metadata": {
  "colab": {
   "collapsed_sections": [],
   "name": "tutorial5.ipynb",
   "provenance": []
  },
  "kernelspec": {
   "display_name": "Python 3",
   "language": "python",
   "name": "python3"
  },
  "language_info": {
   "codemirror_mode": {
    "name": "ipython",
    "version": 3
   },
   "file_extension": ".py",
   "mimetype": "text/x-python",
   "name": "python",
   "nbconvert_exporter": "python",
   "pygments_lexer": "ipython3",
   "version": "3.8.5"
  }
 },
 "nbformat": 4,
 "nbformat_minor": 1
}
